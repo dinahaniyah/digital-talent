{
 "cells": [
  {
   "cell_type": "code",
   "execution_count": 1,
   "metadata": {},
   "outputs": [
    {
     "name": "stdout",
     "output_type": "stream",
     "text": [
      "RESULT FOR USING BMI:\n",
      "==========================\n",
      "CATEGORY:\n",
      "Normal (Healthy weight)\n",
      "==========================\n",
      "DETAILS :\n",
      "BMI value:  19.841269841269845\n",
      "Weight:  56 kg\n",
      "Height:  168 cm2\n"
     ]
    }
   ],
   "source": [
    "# ===================Input===================\n",
    "weight_kg = 56\n",
    "height_cm = 168\n",
    "\n",
    "# =============Formula of BMI================\n",
    "BMI = weight_kg / (height_cm/100)**2\n",
    "\n",
    "# ================Categorize=================\n",
    "print (\"RESULT FOR USING BMI:\")\n",
    "print (\"==========================\")\n",
    "print (\"CATEGORY:\")\n",
    "\n",
    "if BMI<15:\n",
    "    print(\"Very severely underweight\")\n",
    "elif BMI>=15 and BMI<16:\n",
    "    print(\"Severely underweight\")\n",
    "elif BMI>=16 and BMI<18.5:\n",
    "    print(\"Underweight\")\n",
    "elif BMI>=18.5 and BMI<25:\n",
    "    print(\"Normal (Healthy weight)\")\n",
    "elif BMI>=25 and BMI<30:\n",
    "    print(\"Overweight\")\n",
    "elif BMI>=30 and BMI<35:\n",
    "    print(\"Moderately obese\")\n",
    "elif BMI>=35 and BMI<40:\n",
    "    print(\"Severely obese\")\n",
    "else:\n",
    "    print(\"Very severely obese\")\n",
    "\n",
    "# =================Result==================\n",
    "print (\"==========================\")\n",
    "print (\"DETAILS :\")\n",
    "print (\"BMI value: \" , BMI)\n",
    "print (\"Weight: \", weight_kg, \"kg\")\n",
    "print (\"Height: \", height_cm, \"cm2\")"
   ]
  },
  {
   "cell_type": "code",
   "execution_count": null,
   "metadata": {},
   "outputs": [],
   "source": []
  }
 ],
 "metadata": {
  "kernelspec": {
   "display_name": "Python 3",
   "language": "python",
   "name": "python3"
  },
  "language_info": {
   "codemirror_mode": {
    "name": "ipython",
    "version": 3
   },
   "file_extension": ".py",
   "mimetype": "text/x-python",
   "name": "python",
   "nbconvert_exporter": "python",
   "pygments_lexer": "ipython3",
   "version": "3.6.5"
  }
 },
 "nbformat": 4,
 "nbformat_minor": 2
}
