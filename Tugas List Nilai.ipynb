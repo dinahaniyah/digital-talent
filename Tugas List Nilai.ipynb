{
 "cells": [
  {
   "cell_type": "markdown",
   "metadata": {},
   "source": [
    "# Soal\n",
    "Diberikan sekumpulan Nilai Random antara 0 sampai dengan 100 sebanyak 250 nilai. Buatlah program untuk melakukan hal berikut:\n",
    "1. Tampilkan Angka Ganjil dari ke 250 nilai tersebut\n",
    "2. Tampilkan berapa banyak yang mendapatkan nilai lebih dari 70\n",
    "3. Tampilkan standar deviasi dari sekumpulan nilai tersebut\n",
    "4. Tampilkan nilai maksimum dan minimum\n",
    "5. Tampilkan modus dari sekumpulan nilai tersebut"
   ]
  },
  {
   "cell_type": "markdown",
   "metadata": {},
   "source": [
    "# Data"
   ]
  },
  {
   "cell_type": "code",
   "execution_count": 1,
   "metadata": {},
   "outputs": [],
   "source": [
    "import random\n",
    "import statistics \n",
    "import math\n",
    "\n",
    "# GENERATE RANDOM\n",
    "nilaiTugas = []\n",
    "for i in range(250):\n",
    "    nilaiTugas.append(random.randrange(1,100,1))\n",
    "\n",
    "# print(nilaiTugas)"
   ]
  },
  {
   "cell_type": "markdown",
   "metadata": {},
   "source": [
    "# Odd Value"
   ]
  },
  {
   "cell_type": "code",
   "execution_count": 2,
   "metadata": {},
   "outputs": [
    {
     "name": "stdout",
     "output_type": "stream",
     "text": [
      "NILAI GANJIL:\n",
      "[96, 96, 92, 92, 96, 78, 98, 38, 20, 38, 42, 84, 22, 72, 70, 14, 92, 2, 28, 8, 66, 24, 28, 62, 36, 80, 72, 90, 42, 4, 58, 44, 90, 88, 14, 18, 52, 84, 36, 76, 86, 2, 30, 62, 34, 74, 78, 72, 66, 92, 36, 10, 72, 38, 74, 18, 12, 38, 70, 54, 74, 38, 26, 20, 40, 46, 76, 4, 96, 94, 52, 30, 92, 24, 52, 46, 52, 46, 92, 80, 78, 84, 6, 24, 74, 98, 56, 68, 98, 16, 12, 96, 82, 78, 88, 16, 20, 96, 24, 64, 10, 32, 18, 10, 76, 74, 38, 94, 74, 26, 62, 60, 44, 46, 14, 96, 66, 14, 84, 6, 96, 52, 72, 78, 58, 44, 28, 82, 28, 94, 62, 26]\n"
     ]
    }
   ],
   "source": [
    "# ganjil\n",
    "ganjil = []\n",
    "for i in nilaiTugas:\n",
    "    if i%2==0 :\n",
    "        ganjil.append(i)\n",
    "print(\"NILAI GANJIL:\")\n",
    "print(ganjil)"
   ]
  },
  {
   "cell_type": "markdown",
   "metadata": {},
   "source": [
    "# Standard Deviation"
   ]
  },
  {
   "cell_type": "code",
   "execution_count": 3,
   "metadata": {},
   "outputs": [
    {
     "name": "stdout",
     "output_type": "stream",
     "text": [
      "Mean:  52.448\n",
      "Standar Deviasi:  29.6783171022903\n"
     ]
    }
   ],
   "source": [
    "# standar deviasi\n",
    "deviation = []\n",
    "mean = 0\n",
    "total = 0\n",
    "sums = 0\n",
    "\n",
    "for i in nilaiTugas:\n",
    "    total = total + i\n",
    "    \n",
    "mean = total/len(nilaiTugas)\n",
    "print(\"Mean: \", mean)\n",
    "\n",
    "for i in nilaiTugas:\n",
    "    deviation.append((i-mean)**2)\n",
    "\n",
    "for d in deviation:\n",
    "    sums = (sums+d)\n",
    "\n",
    "standard_deviation = ((sums)/(len(nilaiTugas)-1))**0.5\n",
    "print(\"Standar Deviasi: \", standard_deviation)\n",
    "\n",
    "# Perhitungan standar deviasi dengan menggunakan lib statistics \n",
    "# print(statistics.stdev(nilaiTugas))"
   ]
  },
  {
   "cell_type": "markdown",
   "metadata": {},
   "source": [
    "# Value > 70"
   ]
  },
  {
   "cell_type": "code",
   "execution_count": 4,
   "metadata": {},
   "outputs": [
    {
     "name": "stdout",
     "output_type": "stream",
     "text": [
      "NILAI>70 :\n",
      "[96, 87, 96, 92, 92, 96, 99, 78, 98, 89, 75, 77, 84, 72, 92, 83, 80, 72, 90, 71, 79, 90, 81, 88, 91, 95, 84, 76, 86, 83, 85, 89, 74, 78, 72, 92, 89, 73, 72, 74, 97, 89, 74, 75, 91, 89, 91, 76, 96, 94, 92, 81, 92, 80, 78, 99, 84, 74, 98, 83, 98, 75, 85, 96, 82, 78, 88, 96, 77, 76, 74, 95, 94, 74, 79, 87, 87, 93, 73, 77, 99, 96, 84, 73, 96, 72, 78, 82, 94, 75, 71, 85]\n"
     ]
    }
   ],
   "source": [
    "# nilai > 70\n",
    "morevalue = []\n",
    "for i in nilaiTugas:\n",
    "    if i>70:\n",
    "        morevalue.append(i)\n",
    "print(\"NILAI>70 :\")\n",
    "print(morevalue)"
   ]
  },
  {
   "cell_type": "markdown",
   "metadata": {},
   "source": [
    "# Maximum Value"
   ]
  },
  {
   "cell_type": "code",
   "execution_count": 5,
   "metadata": {},
   "outputs": [
    {
     "name": "stdout",
     "output_type": "stream",
     "text": [
      "NILAI MAKSIMUM :\n",
      "99\n"
     ]
    }
   ],
   "source": [
    "# maksimum\n",
    "maks = max(nilaiTugas)\n",
    "print(\"NILAI MAKSIMUM :\")\n",
    "print(maks)"
   ]
  },
  {
   "cell_type": "markdown",
   "metadata": {},
   "source": [
    "# Minimum Value"
   ]
  },
  {
   "cell_type": "code",
   "execution_count": 6,
   "metadata": {},
   "outputs": [
    {
     "name": "stdout",
     "output_type": "stream",
     "text": [
      "NILAI MINIMUM :\n",
      "1\n"
     ]
    }
   ],
   "source": [
    "# minimum\n",
    "minimum = min(nilaiTugas)\n",
    "print(\"NILAI MINIMUM :\")\n",
    "print(minimum)"
   ]
  },
  {
   "cell_type": "markdown",
   "metadata": {},
   "source": [
    "# Mode Value"
   ]
  },
  {
   "cell_type": "code",
   "execution_count": 7,
   "metadata": {},
   "outputs": [
    {
     "name": "stdout",
     "output_type": "stream",
     "text": [
      "NILAI MODUS:\n",
      "Data: 96 , sebanyak 8 Kali\n",
      "=========================================\n",
      "KEMUNCULAN DATA:\n",
      "Nilai 51 muncul sebanyak :  5\n",
      "Nilai 96 muncul sebanyak :  8\n",
      "Nilai 87 muncul sebanyak :  3\n",
      "Nilai 92 muncul sebanyak :  6\n",
      "Nilai 65 muncul sebanyak :  1\n",
      "Nilai 37 muncul sebanyak :  1\n",
      "Nilai 99 muncul sebanyak :  3\n",
      "Nilai 78 muncul sebanyak :  5\n",
      "Nilai 98 muncul sebanyak :  3\n",
      "Nilai 38 muncul sebanyak :  6\n",
      "Nilai 57 muncul sebanyak :  2\n",
      "Nilai 20 muncul sebanyak :  3\n",
      "Nilai 89 muncul sebanyak :  5\n",
      "Nilai 45 muncul sebanyak :  5\n",
      "Nilai 49 muncul sebanyak :  3\n",
      "Nilai 42 muncul sebanyak :  2\n",
      "Nilai 75 muncul sebanyak :  4\n",
      "Nilai 77 muncul sebanyak :  3\n",
      "Nilai 7 muncul sebanyak :  4\n",
      "Nilai 43 muncul sebanyak :  2\n",
      "Nilai 69 muncul sebanyak :  3\n",
      "Nilai 84 muncul sebanyak :  4\n",
      "Nilai 3 muncul sebanyak :  2\n",
      "Nilai 25 muncul sebanyak :  2\n",
      "Nilai 22 muncul sebanyak :  1\n",
      "Nilai 72 muncul sebanyak :  5\n",
      "Nilai 70 muncul sebanyak :  2\n",
      "Nilai 14 muncul sebanyak :  4\n",
      "Nilai 2 muncul sebanyak :  2\n",
      "Nilai 41 muncul sebanyak :  1\n",
      "Nilai 67 muncul sebanyak :  2\n",
      "Nilai 28 muncul sebanyak :  4\n",
      "Nilai 33 muncul sebanyak :  3\n",
      "Nilai 8 muncul sebanyak :  1\n",
      "Nilai 83 muncul sebanyak :  3\n",
      "Nilai 66 muncul sebanyak :  3\n",
      "Nilai 24 muncul sebanyak :  4\n",
      "Nilai 62 muncul sebanyak :  4\n",
      "Nilai 36 muncul sebanyak :  3\n",
      "Nilai 80 muncul sebanyak :  2\n",
      "Nilai 90 muncul sebanyak :  2\n",
      "Nilai 71 muncul sebanyak :  2\n",
      "Nilai 4 muncul sebanyak :  2\n",
      "Nilai 58 muncul sebanyak :  2\n",
      "Nilai 79 muncul sebanyak :  2\n",
      "Nilai 44 muncul sebanyak :  3\n",
      "Nilai 81 muncul sebanyak :  2\n",
      "Nilai 29 muncul sebanyak :  4\n",
      "Nilai 88 muncul sebanyak :  2\n",
      "Nilai 91 muncul sebanyak :  3\n",
      "Nilai 18 muncul sebanyak :  3\n",
      "Nilai 95 muncul sebanyak :  2\n",
      "Nilai 52 muncul sebanyak :  5\n",
      "Nilai 76 muncul sebanyak :  3\n",
      "Nilai 86 muncul sebanyak :  1\n",
      "Nilai 9 muncul sebanyak :  4\n",
      "Nilai 30 muncul sebanyak :  2\n",
      "Nilai 53 muncul sebanyak :  2\n",
      "Nilai 35 muncul sebanyak :  3\n",
      "Nilai 85 muncul sebanyak :  3\n",
      "Nilai 34 muncul sebanyak :  1\n",
      "Nilai 74 muncul sebanyak :  6\n",
      "Nilai 55 muncul sebanyak :  2\n",
      "Nilai 27 muncul sebanyak :  4\n",
      "Nilai 73 muncul sebanyak :  3\n",
      "Nilai 10 muncul sebanyak :  3\n",
      "Nilai 97 muncul sebanyak :  1\n",
      "Nilai 12 muncul sebanyak :  2\n",
      "Nilai 15 muncul sebanyak :  3\n",
      "Nilai 13 muncul sebanyak :  3\n",
      "Nilai 54 muncul sebanyak :  1\n",
      "Nilai 26 muncul sebanyak :  3\n",
      "Nilai 40 muncul sebanyak :  1\n",
      "Nilai 46 muncul sebanyak :  4\n",
      "Nilai 21 muncul sebanyak :  3\n",
      "Nilai 94 muncul sebanyak :  3\n",
      "Nilai 19 muncul sebanyak :  1\n",
      "Nilai 23 muncul sebanyak :  3\n",
      "Nilai 6 muncul sebanyak :  2\n",
      "Nilai 56 muncul sebanyak :  1\n",
      "Nilai 68 muncul sebanyak :  1\n",
      "Nilai 16 muncul sebanyak :  2\n",
      "Nilai 61 muncul sebanyak :  1\n",
      "Nilai 82 muncul sebanyak :  2\n",
      "Nilai 31 muncul sebanyak :  1\n",
      "Nilai 5 muncul sebanyak :  2\n",
      "Nilai 64 muncul sebanyak :  1\n",
      "Nilai 32 muncul sebanyak :  1\n",
      "Nilai 1 muncul sebanyak :  3\n",
      "Nilai 60 muncul sebanyak :  1\n",
      "Nilai 93 muncul sebanyak :  1\n",
      "Nilai 17 muncul sebanyak :  1\n",
      "Nilai 63 muncul sebanyak :  2\n"
     ]
    }
   ],
   "source": [
    "# modus\n",
    "modus = {}\n",
    "for i in nilaiTugas:\n",
    "    if i not in modus:\n",
    "        modus[i] = 1\n",
    "    else:\n",
    "        modus[i]+=1\n",
    "        \n",
    "temp = 0\n",
    "result = 0\n",
    "for j in modus:\n",
    "    if modus[j]>temp:\n",
    "        temp=modus[j]\n",
    "        result=j\n",
    "print(\"NILAI MODUS:\")\n",
    "print(\"Data:\",result,\", sebanyak\",temp, \"Kali\")\n",
    "print(\"=========================================\")\n",
    "\n",
    "print(\"KEMUNCULAN DATA:\")\n",
    "for x,y in modus.items():\n",
    "    print(\"Nilai\",x,\"muncul sebanyak : \",y)"
   ]
  }
 ],
 "metadata": {
  "kernelspec": {
   "display_name": "Python 3",
   "language": "python",
   "name": "python3"
  },
  "language_info": {
   "codemirror_mode": {
    "name": "ipython",
    "version": 3
   },
   "file_extension": ".py",
   "mimetype": "text/x-python",
   "name": "python",
   "nbconvert_exporter": "python",
   "pygments_lexer": "ipython3",
   "version": "3.6.5"
  }
 },
 "nbformat": 4,
 "nbformat_minor": 2
}
